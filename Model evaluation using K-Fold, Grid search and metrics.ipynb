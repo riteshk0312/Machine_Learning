{
 "cells": [
  {
   "cell_type": "markdown",
   "id": "7bfe7b14-3523-4685-aadf-a7c158125be4",
   "metadata": {},
   "source": [
    "# Model evaluation using K-Fold, Grid search and metrics"
   ]
  },
  {
   "cell_type": "markdown",
   "id": "8d7f9aa9-2e84-45cd-a09f-88b49bed499d",
   "metadata": {},
   "source": [
    "### * Breast cancer dataset"
   ]
  },
  {
   "cell_type": "markdown",
   "id": "8e6817f4-0fbe-41f7-85df-3c1c478543b6",
   "metadata": {},
   "source": [
    "# 1 Import the Library"
   ]
  },
  {
   "cell_type": "code",
   "execution_count": 2,
   "id": "b345f03e-b55e-4ce4-a9ec-eaf3629b9f2b",
   "metadata": {},
   "outputs": [],
   "source": [
    "import numpy as np\n",
    "import pandas as pd"
   ]
  },
  {
   "cell_type": "markdown",
   "id": "74cdb65c-bd4f-4a96-8dc3-c6cf5f24195d",
   "metadata": {},
   "source": [
    "# 2.Load the dataset "
   ]
  },
  {
   "cell_type": "code",
   "execution_count": 6,
   "id": "1bed53eb-937b-4edb-bd62-52ccf3cff07e",
   "metadata": {},
   "outputs": [],
   "source": [
    "from sklearn.datasets import load_breast_cancer"
   ]
  },
  {
   "cell_type": "code",
   "execution_count": 8,
   "id": "8466a49d-077d-4294-aec0-7010db7c5259",
   "metadata": {},
   "outputs": [],
   "source": [
    "data =load_breast_cancer()\n"
   ]
  },
  {
   "cell_type": "code",
   "execution_count": 9,
   "id": "f7740628-7a28-4654-9b82-8a984abb7910",
   "metadata": {},
   "outputs": [],
   "source": [
    "X=pd.DataFrame(data.data,columns=data.feature_names)\n",
    "y=pd.Series()"
   ]
  },
  {
   "cell_type": "code",
   "execution_count": null,
   "id": "2fd6635f-7112-430a-a24a-7de33303e501",
   "metadata": {},
   "outputs": [],
   "source": [
    "    "
   ]
  }
 ],
 "metadata": {
  "kernelspec": {
   "display_name": "Python [conda env:base] *",
   "language": "python",
   "name": "conda-base-py"
  },
  "language_info": {
   "codemirror_mode": {
    "name": "ipython",
    "version": 3
   },
   "file_extension": ".py",
   "mimetype": "text/x-python",
   "name": "python",
   "nbconvert_exporter": "python",
   "pygments_lexer": "ipython3",
   "version": "3.13.5"
  }
 },
 "nbformat": 4,
 "nbformat_minor": 5
}
