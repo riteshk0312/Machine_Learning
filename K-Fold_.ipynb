{
 "cells": [
  {
   "cell_type": "markdown",
   "id": "78c05874-413c-41b6-8f95-6980f40cbba3",
   "metadata": {},
   "source": [
    "# K- fold cross validation technique"
   ]
  },
  {
   "cell_type": "markdown",
   "id": "bfcc7e5f-ecc5-4960-b091-1e7c58f1ee1e",
   "metadata": {},
   "source": [
    "##  .Titanic Dataset"
   ]
  },
  {
   "cell_type": "markdown",
   "id": "9eb2057a-807e-4872-96d2-5790b0f6d245",
   "metadata": {},
   "source": [
    "# 1 import the library"
   ]
  },
  {
   "cell_type": "code",
   "execution_count": 3,
   "id": "0bf37b29-ea8c-4e78-b946-303e7f08fce9",
   "metadata": {},
   "outputs": [],
   "source": [
    "import numpy as np\n",
    "import pandas as pd\n",
    "import matplotlib.pyplot as plt"
   ]
  },
  {
   "cell_type": "markdown",
   "id": "27ee0cf0-64b3-4932-ad1e-36230d5f1713",
   "metadata": {},
   "source": [
    "# 2.Load the data"
   ]
  },
  {
   "cell_type": "code",
   "execution_count": 4,
   "id": "12dead14-7c24-4854-81dc-1992c59e3af4",
   "metadata": {},
   "outputs": [],
   "source": [
    "titanic_data=pd.read_csv(r'titanic-1.csv')"
   ]
  },
  {
   "cell_type": "code",
   "execution_count": 5,
   "id": "818eb918-423e-47a5-ac30-89b265f01d13",
   "metadata": {},
   "outputs": [
    {
     "data": {
      "text/html": [
       "<div>\n",
       "<style scoped>\n",
       "    .dataframe tbody tr th:only-of-type {\n",
       "        vertical-align: middle;\n",
       "    }\n",
       "\n",
       "    .dataframe tbody tr th {\n",
       "        vertical-align: top;\n",
       "    }\n",
       "\n",
       "    .dataframe thead th {\n",
       "        text-align: right;\n",
       "    }\n",
       "</style>\n",
       "<table border=\"1\" class=\"dataframe\">\n",
       "  <thead>\n",
       "    <tr style=\"text-align: right;\">\n",
       "      <th></th>\n",
       "      <th>PassengerId</th>\n",
       "      <th>Survived</th>\n",
       "      <th>Pclass</th>\n",
       "      <th>Name</th>\n",
       "      <th>Sex</th>\n",
       "      <th>Age</th>\n",
       "      <th>SibSp</th>\n",
       "      <th>Parch</th>\n",
       "      <th>Ticket</th>\n",
       "      <th>Fare</th>\n",
       "      <th>Cabin</th>\n",
       "      <th>Embarked</th>\n",
       "    </tr>\n",
       "  </thead>\n",
       "  <tbody>\n",
       "    <tr>\n",
       "      <th>775</th>\n",
       "      <td>776</td>\n",
       "      <td>0</td>\n",
       "      <td>3</td>\n",
       "      <td>Myhrman, Mr. Pehr Fabian Oliver Malkolm</td>\n",
       "      <td>male</td>\n",
       "      <td>18.0</td>\n",
       "      <td>0</td>\n",
       "      <td>0</td>\n",
       "      <td>347078</td>\n",
       "      <td>7.7500</td>\n",
       "      <td>NaN</td>\n",
       "      <td>S</td>\n",
       "    </tr>\n",
       "    <tr>\n",
       "      <th>720</th>\n",
       "      <td>721</td>\n",
       "      <td>1</td>\n",
       "      <td>2</td>\n",
       "      <td>Harper, Miss. Annie Jessie \"Nina\"</td>\n",
       "      <td>female</td>\n",
       "      <td>6.0</td>\n",
       "      <td>0</td>\n",
       "      <td>1</td>\n",
       "      <td>248727</td>\n",
       "      <td>33.0000</td>\n",
       "      <td>NaN</td>\n",
       "      <td>S</td>\n",
       "    </tr>\n",
       "    <tr>\n",
       "      <th>582</th>\n",
       "      <td>583</td>\n",
       "      <td>0</td>\n",
       "      <td>2</td>\n",
       "      <td>Downton, Mr. William James</td>\n",
       "      <td>male</td>\n",
       "      <td>54.0</td>\n",
       "      <td>0</td>\n",
       "      <td>0</td>\n",
       "      <td>28403</td>\n",
       "      <td>26.0000</td>\n",
       "      <td>NaN</td>\n",
       "      <td>S</td>\n",
       "    </tr>\n",
       "    <tr>\n",
       "      <th>693</th>\n",
       "      <td>694</td>\n",
       "      <td>0</td>\n",
       "      <td>3</td>\n",
       "      <td>Saad, Mr. Khalil</td>\n",
       "      <td>male</td>\n",
       "      <td>25.0</td>\n",
       "      <td>0</td>\n",
       "      <td>0</td>\n",
       "      <td>2672</td>\n",
       "      <td>7.2250</td>\n",
       "      <td>NaN</td>\n",
       "      <td>C</td>\n",
       "    </tr>\n",
       "    <tr>\n",
       "      <th>662</th>\n",
       "      <td>663</td>\n",
       "      <td>0</td>\n",
       "      <td>1</td>\n",
       "      <td>Colley, Mr. Edward Pomeroy</td>\n",
       "      <td>male</td>\n",
       "      <td>47.0</td>\n",
       "      <td>0</td>\n",
       "      <td>0</td>\n",
       "      <td>5727</td>\n",
       "      <td>25.5875</td>\n",
       "      <td>E58</td>\n",
       "      <td>S</td>\n",
       "    </tr>\n",
       "  </tbody>\n",
       "</table>\n",
       "</div>"
      ],
      "text/plain": [
       "     PassengerId  Survived  Pclass                                     Name  \\\n",
       "775          776         0       3  Myhrman, Mr. Pehr Fabian Oliver Malkolm   \n",
       "720          721         1       2        Harper, Miss. Annie Jessie \"Nina\"   \n",
       "582          583         0       2               Downton, Mr. William James   \n",
       "693          694         0       3                         Saad, Mr. Khalil   \n",
       "662          663         0       1               Colley, Mr. Edward Pomeroy   \n",
       "\n",
       "        Sex   Age  SibSp  Parch  Ticket     Fare Cabin Embarked  \n",
       "775    male  18.0      0      0  347078   7.7500   NaN        S  \n",
       "720  female   6.0      0      1  248727  33.0000   NaN        S  \n",
       "582    male  54.0      0      0   28403  26.0000   NaN        S  \n",
       "693    male  25.0      0      0    2672   7.2250   NaN        C  \n",
       "662    male  47.0      0      0    5727  25.5875   E58        S  "
      ]
     },
     "execution_count": 5,
     "metadata": {},
     "output_type": "execute_result"
    }
   ],
   "source": [
    "titanic_data.sample(5)"
   ]
  },
  {
   "cell_type": "markdown",
   "id": "4221806f-279f-4f14-b6f8-01db6320c6f7",
   "metadata": {},
   "source": [
    "# 3.Data Preprocessing"
   ]
  },
  {
   "cell_type": "markdown",
   "id": "b77d1eab-4744-41b4-8d1c-c3fba5060f82",
   "metadata": {},
   "source": [
    "## Finding missing values"
   ]
  },
  {
   "cell_type": "code",
   "execution_count": 6,
   "id": "ab2430f8-5f90-4bc4-a9e9-91e46827bedc",
   "metadata": {},
   "outputs": [
    {
     "data": {
      "text/plain": [
       "PassengerId      0\n",
       "Survived         0\n",
       "Pclass           0\n",
       "Name             0\n",
       "Sex              0\n",
       "Age            177\n",
       "SibSp            0\n",
       "Parch            0\n",
       "Ticket           0\n",
       "Fare             0\n",
       "Cabin          687\n",
       "Embarked         2\n",
       "dtype: int64"
      ]
     },
     "execution_count": 6,
     "metadata": {},
     "output_type": "execute_result"
    }
   ],
   "source": [
    "titanic_data.isnull().sum()"
   ]
  },
  {
   "cell_type": "code",
   "execution_count": 7,
   "id": "4aba05e4-661f-456b-8437-243426999355",
   "metadata": {},
   "outputs": [
    {
     "data": {
      "text/plain": [
       "(891, 12)"
      ]
     },
     "execution_count": 7,
     "metadata": {},
     "output_type": "execute_result"
    }
   ],
   "source": [
    "titanic_data.shape"
   ]
  },
  {
   "cell_type": "markdown",
   "id": "e5eed387-a19e-4a02-a093-655112b3c139",
   "metadata": {},
   "source": [
    "## Handle the missing values"
   ]
  },
  {
   "cell_type": "markdown",
   "id": "74f703c2-a6fa-462f-afd4-893f9e97d5f1",
   "metadata": {},
   "source": [
    "### Rule no. 1:if no. of rows of missing  value is greater than 50%, then drop the column"
   ]
  },
  {
   "cell_type": "code",
   "execution_count": 8,
   "id": "cc2e631d-a8ea-46de-b9a9-0c24d1540b3b",
   "metadata": {},
   "outputs": [
    {
     "name": "stdout",
     "output_type": "stream",
     "text": [
      "Cabin row missing value percentage is  77.10437710437711\n"
     ]
    }
   ],
   "source": [
    "print('Cabin row missing value percentage is ',(687/891)*100)"
   ]
  },
  {
   "cell_type": "code",
   "execution_count": 9,
   "id": "28a3f0bc-e0a6-4e84-85dc-58feed871493",
   "metadata": {},
   "outputs": [
    {
     "name": "stdout",
     "output_type": "stream",
     "text": [
      "Age and missing value is 19.87%\n",
      "Cabin and missing value is 77.10%\n",
      "Embarked and missing value is 0.22%\n"
     ]
    }
   ],
   "source": [
    "for col_name in titanic_data.columns:\n",
    "    miss_value = titanic_data[col_name].isnull().sum()/titanic_data.shape[0]\n",
    "    if miss_value>0:\n",
    "        print(f'{col_name} and missing value is {miss_value*100:.2f}%')"
   ]
  },
  {
   "cell_type": "code",
   "execution_count": 10,
   "id": "44082734-7726-4ccb-ad0b-ac9b9a818471",
   "metadata": {},
   "outputs": [],
   "source": [
    "# Drop the cabin column - missing value\n",
    "# Drop : PassengerID, Name and Ticket - Unique columns"
   ]
  },
  {
   "cell_type": "code",
   "execution_count": 11,
   "id": "07ca4b06-86d0-433c-9fbd-91b93f092f2d",
   "metadata": {},
   "outputs": [],
   "source": [
    "titanic_data=titanic_data.drop(columns=['Cabin','PassengerId','Name','Ticket'],axis=1)"
   ]
  },
  {
   "cell_type": "code",
   "execution_count": 12,
   "id": "a893257c-54e1-4d24-a0b8-855a5124d8d2",
   "metadata": {},
   "outputs": [
    {
     "data": {
      "text/html": [
       "<div>\n",
       "<style scoped>\n",
       "    .dataframe tbody tr th:only-of-type {\n",
       "        vertical-align: middle;\n",
       "    }\n",
       "\n",
       "    .dataframe tbody tr th {\n",
       "        vertical-align: top;\n",
       "    }\n",
       "\n",
       "    .dataframe thead th {\n",
       "        text-align: right;\n",
       "    }\n",
       "</style>\n",
       "<table border=\"1\" class=\"dataframe\">\n",
       "  <thead>\n",
       "    <tr style=\"text-align: right;\">\n",
       "      <th></th>\n",
       "      <th>Survived</th>\n",
       "      <th>Pclass</th>\n",
       "      <th>Sex</th>\n",
       "      <th>Age</th>\n",
       "      <th>SibSp</th>\n",
       "      <th>Parch</th>\n",
       "      <th>Fare</th>\n",
       "      <th>Embarked</th>\n",
       "    </tr>\n",
       "  </thead>\n",
       "  <tbody>\n",
       "    <tr>\n",
       "      <th>0</th>\n",
       "      <td>0</td>\n",
       "      <td>3</td>\n",
       "      <td>male</td>\n",
       "      <td>22.0</td>\n",
       "      <td>1</td>\n",
       "      <td>0</td>\n",
       "      <td>7.25</td>\n",
       "      <td>S</td>\n",
       "    </tr>\n",
       "  </tbody>\n",
       "</table>\n",
       "</div>"
      ],
      "text/plain": [
       "   Survived  Pclass   Sex   Age  SibSp  Parch  Fare Embarked\n",
       "0         0       3  male  22.0      1      0  7.25        S"
      ]
     },
     "execution_count": 12,
     "metadata": {},
     "output_type": "execute_result"
    }
   ],
   "source": [
    "titanic_data.head(1)"
   ]
  },
  {
   "cell_type": "markdown",
   "id": "380b41cd-ef82-4bda-ae6e-b46fda29c012",
   "metadata": {},
   "source": [
    "### Rule 2:Handle Missing value(impute)"
   ]
  },
  {
   "cell_type": "code",
   "execution_count": 13,
   "id": "fe43d4cf-180e-4886-bdb2-384e672d3cb8",
   "metadata": {},
   "outputs": [],
   "source": [
    "from sklearn.impute import SimpleImputer"
   ]
  },
  {
   "cell_type": "code",
   "execution_count": 14,
   "id": "b872d615-5c8f-4bf8-a871-4608b4afce62",
   "metadata": {},
   "outputs": [],
   "source": [
    "# Numerical value"
   ]
  },
  {
   "cell_type": "code",
   "execution_count": 15,
   "id": "c340a18c-ad13-4fe3-b310-9006ad14da71",
   "metadata": {},
   "outputs": [],
   "source": [
    "age_imputer=SimpleImputer(strategy='mean')"
   ]
  },
  {
   "cell_type": "code",
   "execution_count": 16,
   "id": "1d3b6702-0b23-488b-ab6f-4cce0184d81e",
   "metadata": {},
   "outputs": [],
   "source": [
    "titanic_data['Age']= age_imputer.fit_transform(titanic_data[[\"Age\"]])"
   ]
  },
  {
   "cell_type": "code",
   "execution_count": 17,
   "id": "2b7bef63-2ac6-4d08-8c46-a0f08d92a72f",
   "metadata": {},
   "outputs": [
    {
     "data": {
      "text/plain": [
       "Survived    0\n",
       "Pclass      0\n",
       "Sex         0\n",
       "Age         0\n",
       "SibSp       0\n",
       "Parch       0\n",
       "Fare        0\n",
       "Embarked    2\n",
       "dtype: int64"
      ]
     },
     "execution_count": 17,
     "metadata": {},
     "output_type": "execute_result"
    }
   ],
   "source": [
    "titanic_data.isnull().sum()"
   ]
  },
  {
   "cell_type": "code",
   "execution_count": 18,
   "id": "f05d86a7-7154-4e5a-a2a6-9c7c6398fdf8",
   "metadata": {},
   "outputs": [
    {
     "data": {
      "text/plain": [
       "Embarked\n",
       "S    644\n",
       "C    168\n",
       "Q     77\n",
       "Name: count, dtype: int64"
      ]
     },
     "execution_count": 18,
     "metadata": {},
     "output_type": "execute_result"
    }
   ],
   "source": [
    "titanic_data.Embarked.value_counts()"
   ]
  },
  {
   "cell_type": "code",
   "execution_count": 19,
   "id": "9d32cb7e-f06e-4003-bf9d-c878a9583042",
   "metadata": {},
   "outputs": [],
   "source": [
    "from sklearn.preprocessing import LabelEncoder"
   ]
  },
  {
   "cell_type": "code",
   "execution_count": 20,
   "id": "58cffac9-c6d5-49dc-88be-3ed08cb2cacb",
   "metadata": {},
   "outputs": [],
   "source": [
    "label_encoder = LabelEncoder()"
   ]
  },
  {
   "cell_type": "code",
   "execution_count": 21,
   "id": "84a68fbd-3b65-4590-9902-eeef07fb3e27",
   "metadata": {},
   "outputs": [],
   "source": [
    "titanic_data['Sex'] = label_encoder.fit_transform(titanic_data['Sex'])\n",
    "titanic_data['Embarked']= label_encoder.fit_transform(titanic_data['Embarked'])"
   ]
  },
  {
   "cell_type": "code",
   "execution_count": 22,
   "id": "a6152e18-8eca-4805-a7d2-7952b28b05db",
   "metadata": {},
   "outputs": [
    {
     "data": {
      "text/html": [
       "<div>\n",
       "<style scoped>\n",
       "    .dataframe tbody tr th:only-of-type {\n",
       "        vertical-align: middle;\n",
       "    }\n",
       "\n",
       "    .dataframe tbody tr th {\n",
       "        vertical-align: top;\n",
       "    }\n",
       "\n",
       "    .dataframe thead th {\n",
       "        text-align: right;\n",
       "    }\n",
       "</style>\n",
       "<table border=\"1\" class=\"dataframe\">\n",
       "  <thead>\n",
       "    <tr style=\"text-align: right;\">\n",
       "      <th></th>\n",
       "      <th>Survived</th>\n",
       "      <th>Pclass</th>\n",
       "      <th>Sex</th>\n",
       "      <th>Age</th>\n",
       "      <th>SibSp</th>\n",
       "      <th>Parch</th>\n",
       "      <th>Fare</th>\n",
       "      <th>Embarked</th>\n",
       "    </tr>\n",
       "  </thead>\n",
       "  <tbody>\n",
       "    <tr>\n",
       "      <th>0</th>\n",
       "      <td>0</td>\n",
       "      <td>3</td>\n",
       "      <td>1</td>\n",
       "      <td>22.0</td>\n",
       "      <td>1</td>\n",
       "      <td>0</td>\n",
       "      <td>7.25</td>\n",
       "      <td>2</td>\n",
       "    </tr>\n",
       "  </tbody>\n",
       "</table>\n",
       "</div>"
      ],
      "text/plain": [
       "   Survived  Pclass  Sex   Age  SibSp  Parch  Fare  Embarked\n",
       "0         0       3    1  22.0      1      0  7.25         2"
      ]
     },
     "execution_count": 22,
     "metadata": {},
     "output_type": "execute_result"
    }
   ],
   "source": [
    "titanic_data.head(1)"
   ]
  },
  {
   "cell_type": "code",
   "execution_count": 23,
   "id": "fe296666-a941-45b1-958f-7d523c155c66",
   "metadata": {},
   "outputs": [],
   "source": [
    "# Fill the embarked column with most frequent(mode)"
   ]
  },
  {
   "cell_type": "code",
   "execution_count": 24,
   "id": "6a47dce7-a337-4b61-909b-c30425fe292d",
   "metadata": {},
   "outputs": [],
   "source": [
    "embarked_imputer = SimpleImputer(strategy='most_frequent')"
   ]
  },
  {
   "cell_type": "code",
   "execution_count": 25,
   "id": "4f5943ba-a937-49b4-8fe4-01c387f805d2",
   "metadata": {},
   "outputs": [],
   "source": [
    "titanic_data['Embarked'] = embarked_imputer.fit_transform(titanic_data[['Embarked']])"
   ]
  },
  {
   "cell_type": "code",
   "execution_count": 26,
   "id": "44bf6ad5-9d59-4f57-ba2c-86abb91f75f5",
   "metadata": {},
   "outputs": [
    {
     "data": {
      "text/plain": [
       "Survived    0\n",
       "Pclass      0\n",
       "Sex         0\n",
       "Age         0\n",
       "SibSp       0\n",
       "Parch       0\n",
       "Fare        0\n",
       "Embarked    0\n",
       "dtype: int64"
      ]
     },
     "execution_count": 26,
     "metadata": {},
     "output_type": "execute_result"
    }
   ],
   "source": [
    "titanic_data.isnull().sum()"
   ]
  },
  {
   "cell_type": "markdown",
   "id": "d4a7524c-094e-4e64-8f85-b9b3de13c16f",
   "metadata": {},
   "source": [
    "# Find the Independent Varible and dependent avariable"
   ]
  },
  {
   "cell_type": "code",
   "execution_count": 27,
   "id": "7ca02254-252e-4aa5-b445-39628189ce03",
   "metadata": {},
   "outputs": [],
   "source": [
    "X = titanic_data.drop(columns=['Survived'],axis=1 )\n",
    "y = titanic_data['Survived']"
   ]
  },
  {
   "cell_type": "markdown",
   "id": "463d8ccb-f26b-4cd3-8566-493abee02408",
   "metadata": {},
   "source": [
    "# Cross  validation technique"
   ]
  },
  {
   "cell_type": "code",
   "execution_count": 28,
   "id": "42e39931-afb0-4646-8837-2da2ee16b245",
   "metadata": {},
   "outputs": [],
   "source": [
    "from sklearn.tree import DecisionTreeClassifier"
   ]
  },
  {
   "cell_type": "code",
   "execution_count": 29,
   "id": "81fc31ca-038e-4b85-b789-996eeaf2f565",
   "metadata": {},
   "outputs": [],
   "source": [
    "model_dt = DecisionTreeClassifier()"
   ]
  },
  {
   "cell_type": "code",
   "execution_count": 30,
   "id": "86fed956-30d9-41dd-8235-02fef11e5808",
   "metadata": {},
   "outputs": [],
   "source": [
    "from sklearn.model_selection import cross_val_score"
   ]
  },
  {
   "cell_type": "code",
   "execution_count": 31,
   "id": "6ead85d5-8dba-4f55-9e84-ccb9d0363698",
   "metadata": {},
   "outputs": [],
   "source": [
    "# fold\n",
    "k=5"
   ]
  },
  {
   "cell_type": "code",
   "execution_count": 32,
   "id": "00f1e569-8ea6-4e6b-946a-c6e0a7f7b8c8",
   "metadata": {},
   "outputs": [
    {
     "name": "stdout",
     "output_type": "stream",
     "text": [
      "[CV] END .................................................... total time=   0.0s\n",
      "[CV] END .................................................... total time=   0.0s\n",
      "[CV] END .................................................... total time=   0.0s\n",
      "[CV] END .................................................... total time=   0.0s\n",
      "[CV] END .................................................... total time=   0.0s\n"
     ]
    }
   ],
   "source": [
    "# perform K-fold cross validation\n",
    "cv_scores = cross_val_score(model_dt,X,y,cv=k,verbose=2)"
   ]
  },
  {
   "cell_type": "markdown",
   "id": "25873c79-4fb7-44e9-8374-b795a664d10f",
   "metadata": {},
   "source": [
    "# Interpretation result"
   ]
  },
  {
   "cell_type": "code",
   "execution_count": 33,
   "id": "e8184231-8ce7-49fc-9c65-c46c6d0ffb3a",
   "metadata": {},
   "outputs": [
    {
     "name": "stdout",
     "output_type": "stream",
     "text": [
      "1 Fold,cross validation accuracy is 0.7653631284916201\n",
      "2 Fold,cross validation accuracy is 0.7808988764044944\n",
      "3 Fold,cross validation accuracy is 0.8033707865168539\n",
      "4 Fold,cross validation accuracy is 0.7415730337078652\n",
      "5 Fold,cross validation accuracy is 0.8089887640449438\n"
     ]
    }
   ],
   "source": [
    "for i in range(k):\n",
    "    print(f'{i+1} Fold,cross validation accuracy is {cv_scores[i]}' )"
   ]
  },
  {
   "cell_type": "code",
   "execution_count": 34,
   "id": "844a34e6-34e4-400f-936d-ac991f8f6d86",
   "metadata": {},
   "outputs": [
    {
     "name": "stdout",
     "output_type": "stream",
     "text": [
      "Mean Accuracy is 0.78\n"
     ]
    }
   ],
   "source": [
    "print(f'Mean Accuracy is {cv_scores.mean():.2f}')"
   ]
  },
  {
   "cell_type": "code",
   "execution_count": 35,
   "id": "81d186d4-682f-4e7b-afe6-7c98ec46fd67",
   "metadata": {},
   "outputs": [
    {
     "name": "stdout",
     "output_type": "stream",
     "text": [
      "Standard Deviation: 0.02\n"
     ]
    }
   ],
   "source": [
    "print(f'Standard Deviation: {cv_scores.std():.2f}')"
   ]
  },
  {
   "cell_type": "code",
   "execution_count": null,
   "id": "4330f6fd-f26e-47f9-9ed1-10e91e32dc7b",
   "metadata": {},
   "outputs": [],
   "source": []
  }
 ],
 "metadata": {
  "kernelspec": {
   "display_name": "Python [conda env:base] *",
   "language": "python",
   "name": "conda-base-py"
  },
  "language_info": {
   "codemirror_mode": {
    "name": "ipython",
    "version": 3
   },
   "file_extension": ".py",
   "mimetype": "text/x-python",
   "name": "python",
   "nbconvert_exporter": "python",
   "pygments_lexer": "ipython3",
   "version": "3.13.5"
  }
 },
 "nbformat": 4,
 "nbformat_minor": 5
}
